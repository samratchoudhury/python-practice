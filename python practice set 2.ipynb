{
 "cells": [
  {
   "cell_type": "markdown",
   "metadata": {},
   "source": [
    "## Python Practice set- 2"
   ]
  },
  {
   "cell_type": "code",
   "execution_count": 2,
   "metadata": {},
   "outputs": [
    {
     "name": "stdout",
     "output_type": "stream",
     "text": [
      "<class 'int'>\n",
      "3539\n"
     ]
    }
   ],
   "source": [
    "#Typecasting.\n",
    "a = \"3534\"\n",
    "a = int(a)\n",
    "print(type(a))\n",
    "print(a + 5)"
   ]
  },
  {
   "cell_type": "code",
   "execution_count": 4,
   "metadata": {},
   "outputs": [
    {
     "name": "stdout",
     "output_type": "stream",
     "text": [
      "Enter a number: 123\n",
      "<class 'int'>\n"
     ]
    }
   ],
   "source": [
    "# Input function\n",
    "a = input(\"Enter a number: \")\n",
    "a = int(a) # Convert a to an Integer(if possible)\n",
    "print(type(a))"
   ]
  },
  {
   "cell_type": "code",
   "execution_count": 6,
   "metadata": {},
   "outputs": [
    {
     "name": "stdout",
     "output_type": "stream",
     "text": [
      "the value of a+b is 25\n"
     ]
    }
   ],
   "source": [
    "# Write a python program to add to numbers.\n",
    "a=12\n",
    "b=13\n",
    "print(\"the value of a+b is\",a+b)"
   ]
  },
  {
   "cell_type": "code",
   "execution_count": 8,
   "metadata": {},
   "outputs": [
    {
     "name": "stdout",
     "output_type": "stream",
     "text": [
      "The remainder when  a is divided by b is 8\n"
     ]
    }
   ],
   "source": [
    "# Write a python program to find remainder when a number is divided by z.\n",
    "a=458\n",
    "b=15\n",
    "print(\"The remainder when  a is divided by b is\",a%b)"
   ]
  },
  {
   "cell_type": "code",
   "execution_count": 9,
   "metadata": {},
   "outputs": [
    {
     "name": "stdout",
     "output_type": "stream",
     "text": [
      "Enter first number: 1\n",
      "Enter second number: 2\n",
      "The average of a and b is 1.5\n"
     ]
    }
   ],
   "source": [
    "#write a python program to find the avarage entered by user.\n",
    "a = input(\"Enter first number: \")\n",
    "b = input(\"Enter second number: \")\n",
    "a = int(a)\n",
    "b = int(b)\n",
    "avg = (a + b)/2\n",
    "print(\"The average of a and b is\", avg)"
   ]
  },
  {
   "cell_type": "code",
   "execution_count": 12,
   "metadata": {},
   "outputs": [
    {
     "name": "stdout",
     "output_type": "stream",
     "text": [
      "Enter your name : samrat \n",
      "Enter your title : choudhury\n",
      "Your name is =  samrat choudhury\n"
     ]
    }
   ],
   "source": [
    "# Input function\n",
    "a = input(\"Enter your name : \")\n",
    "b=input(\"Enter your title : \")\n",
    "print(\"Your name is = \",a+ b)"
   ]
  },
  {
   "cell_type": "code",
   "execution_count": 21,
   "metadata": {},
   "outputs": [
    {
     "name": "stdout",
     "output_type": "stream",
     "text": [
      "samrat\"s and \n",
      "       samrat's\n"
     ]
    }
   ],
   "source": [
    "# strings\n",
    "# b = \"samrat's\" # --> Use this if you have single quotes in your strings\n",
    "# b = 'samrat\"s'\n",
    "b = '''samrat\"s and \n",
    "       samrat's'''\n",
    "print(b)\n",
    "# print(type(b))"
   ]
  },
  {
   "cell_type": "code",
   "execution_count": 23,
   "metadata": {},
   "outputs": [
    {
     "name": "stdout",
     "output_type": "stream",
     "text": [
      "Good Morning, samrat\n"
     ]
    }
   ],
   "source": [
    "# string sliceing...\n",
    "greeting = \"Good Morning, \"\n",
    " name = \"samrat\"\n",
    "# print(type(name))\n",
    "\n",
    "# Concatenating two strings\n",
    " c = greeting + name\n",
    " print(c)"
   ]
  },
  {
   "cell_type": "code",
   "execution_count": 42,
   "metadata": {},
   "outputs": [
    {
     "name": "stdout",
     "output_type": "stream",
     "text": [
      "S\n"
     ]
    }
   ],
   "source": [
    "#string slicing\n",
    "name=\"Samrat\"\n",
    "print(name[0])\n",
    "#name[3] = \"d\" --> Does not work"
   ]
  },
  {
   "cell_type": "code",
   "execution_count": 47,
   "metadata": {},
   "outputs": [
    {
     "name": "stdout",
     "output_type": "stream",
     "text": [
      "Sam\n"
     ]
    }
   ],
   "source": [
    "# string slicing\n",
    "name=\"Samrat\"\n",
    "#print(name[4])\n",
    "print(name[0:3])"
   ]
  },
  {
   "cell_type": "code",
   "execution_count": 11,
   "metadata": {},
   "outputs": [
    {
     "name": "stdout",
     "output_type": "stream",
     "text": [
      "Sa\n",
      "Sam\n",
      "Samr\n",
      "Samra\n",
      "am\n",
      "m\n",
      "r\n",
      "amr\n",
      "r\n",
      "ra\n",
      "amr\n"
     ]
    }
   ],
   "source": [
    "# string slicing\n",
    "name=\"Samrat\"\n",
    "#print(name[4])\n",
    "print(name[0:2])\n",
    "print(name[0:3])\n",
    "print(name[0:4])\n",
    "print(name[0:5])\n",
    "print(name[1:3])\n",
    "print(name[2:3])\n",
    "print(name[3:4])\n",
    "print(name[1:4])\n",
    "print(name[3:4])\n",
    "print(name[3:5])\n",
    "print(name[1:4])\n"
   ]
  }
 ],
 "metadata": {
  "kernelspec": {
   "display_name": "Python 3",
   "language": "python",
   "name": "python3"
  },
  "language_info": {
   "codemirror_mode": {
    "name": "ipython",
    "version": 3
   },
   "file_extension": ".py",
   "mimetype": "text/x-python",
   "name": "python",
   "nbconvert_exporter": "python",
   "pygments_lexer": "ipython3",
   "version": "3.7.1"
  }
 },
 "nbformat": 4,
 "nbformat_minor": 4
}
